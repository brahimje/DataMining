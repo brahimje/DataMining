{
  "nbformat": 4,
  "nbformat_minor": 0,
  "metadata": {
    "colab": {
      "provenance": [],
      "include_colab_link": true
    },
    "kernelspec": {
      "name": "python3",
      "display_name": "Python 3"
    },
    "language_info": {
      "name": "python"
    },
    "accelerator": "GPU",
    "gpuClass": "standard"
  },
  "cells": [
    {
      "cell_type": "markdown",
      "metadata": {
        "id": "view-in-github",
        "colab_type": "text"
      },
      "source": [
        "<a href=\"https://colab.research.google.com/github/brahimje/DataMining/blob/main/ImageMining/Atelier3_Clustering_BrahimJELLITE.ipynb\" target=\"_parent\"><img src=\"https://colab.research.google.com/assets/colab-badge.svg\" alt=\"Open In Colab\"/></a>"
      ]
    },
    {
      "cell_type": "markdown",
      "metadata": {
        "id": "abHseNnLQTzW"
      },
      "source": [
        "<h1><center><bold>ImageMining:\n",
        "Atelier N°3: Image Clustering</bold>\n",
        "\n",
        "Prof : My Abdelouahed Sabri\n",
        "\n",
        "abdelouahed.sabri@gmail.com abdelouahed.sabri@usmba.ac.ma</center></h1>"
      ]
    },
    {
      "cell_type": "markdown",
      "metadata": {
        "id": "wfPrjWBGW3FY"
      },
      "source": [
        "#<h1>1- Introduction </h1>\n",
        "Le clustering consiste en un regroupement (partitionnement) des objets en des groupes (paquets) homogènes (clusters). \n",
        "Un cluster est une collection d’objets (éléments) qui partagent des caractéristiques communes ou trop proches et qui sont dissimilaires aux objets des autres clusters. \n",
        "Le clustering consiste en un regroupement (partitionnement) des objets en des groupes (paquets) homogènes (clusters).<br>\n",
        "Un cluster est une collection d’objets (éléments) qui partagent des caractéristiques communes ou trop proches et qui sont dissimilaires aux objets des autres clusters. "
      ]
    },
    {
      "cell_type": "markdown",
      "metadata": {
        "id": "n4hj-J_4W77G"
      },
      "source": [
        "Les applications du clustering peuvent être répertoriées en 3 catégories :\n",
        "\n",
        "1. Segmentation des bases de données (d’images) en des catégories d’images ; images représentants les forêts, champs, voitures, bâtiments, lacs, … \n",
        "2. Classification non supervisée\n",
        "3. Extraction de connaissances afin de faire apparaitre des sous-ensembles et sous-concepts éventuellement impossibles à distinguer naturellement."
      ]
    },
    {
      "cell_type": "markdown",
      "metadata": {
        "id": "RChzR7abW_9c"
      },
      "source": [
        "# <h1>2- Algorithmes de clustering</h1>\n",
        "Il existe une multitude d’algorithmes de clustering qui peuvent être utilisés dans le cas de l’Image mining :\n",
        "\n",
        "1- Les méthodes basées centroïdes telles que les algorithmes des k-moyennes (K-means) ou k-médoïdes <br>\n",
        "2- Les méthodes de regroupement hiérarchique<br>\n",
        "3- Algorithme de maximisation de l'espérance (Expectation-Maximization; EM)<br>\n",
        "5- Algorithme de C-moyennes floues (Fuzzy C-means clustering; FCM) <br>\n",
        "   …<br>"
      ]
    },
    {
      "cell_type": "markdown",
      "source": [
        "# <h2> 2.1- K-means</h2>\n",
        "K-means est l'un des algorithmes les plus connus en classification non supervisée (clustering), simple et largement utilisé.\n",
        "\n",
        "Principe\n",
        "\n",
        "•\tC’est algorithme itératif qui minimise la somme des distances entre chaque pixel et le centroïde de son cluster<br>\n",
        "•\tConsiste à regrouper les pixels en un certain nombre de classes représentant les régions<br>\n",
        "•\tLe nombre de classes (K) est choisi selon une connaissance préalable et suivant combien de régions souhaitées<br>\n",
        "•\tLe critère d’arrêt de l’algorithme est basé sur la stabilité des moyennes <br>"
      ],
      "metadata": {
        "id": "p1KoleFxxoOx"
      }
    },
    {
      "cell_type": "markdown",
      "source": [
        "## <h3> Avantages </h3>\n",
        "1- L’algorithme de k-Means est très populaire du fait qu’il est très facile à comprendre et à mettre en œuvre, <br>\n",
        "2- La méthode résous une tâche non supervisée, donc elle ne nécessite aucune information sur les données, <<br>\n",
        "3- Rapidité et faibles exigences en taille mémoire, <br>\n",
        "4- La méthode est applicable à tout type de données en choisissant une bonne notion de distance.<br>"
      ],
      "metadata": {
        "id": "30N0c3MoyT7i"
      }
    },
    {
      "cell_type": "markdown",
      "source": [
        "## <h3> Inconvénients </h3>\n",
        "1- Le nombre de classes est un paramètre de l’algorithme, <br> \n",
        "2- Un bon choix du nombre k est nécessaire, car un mauvais choix de k produit de mauvais résultats, <br>\n",
        "3- Les points isolés sont mal gérés (Ils doivent appartenir obligatoirement à un cluster ?)  très sensible au bruit,<br>\n",
        "4- L'algorithme du K-Means ne trouve pas nécessairement la configuration la plus optimale correspondant à la fonction objective minimale, <br>\n",
        "5- Les résultats de l'algorithme du K-Means sont sensibles à l'initialisation aléatoires des centres.<br>"
      ],
      "metadata": {
        "id": "bwKWLF93yYKF"
      }
    },
    {
      "cell_type": "markdown",
      "metadata": {
        "id": "TCRFOYcsI6sY"
      },
      "source": [
        "##<h3> Algorihtme</h3>\n",
        "1- Choix aléatoire de la position initiale des K centroïdes de clusters, <br>\n",
        "2- Affecter les pixels à un cluster suivant un critère de minimisation des distances (généralement selon une mesure de distance euclidienne), <br>\n",
        "3- Une fois tous les pixels placés, recalculer les centroïdes de chaque cluster, <br>\n",
        "4- Réitérer les étapes 2 et 3 jusqu’à ce que plus aucune réaffectation ne soit possible. <br>"
      ]
    },
    {
      "cell_type": "markdown",
      "metadata": {
        "id": "Kh4_LgIdJS-G"
      },
      "source": [
        "# <h1> 2.2- FCM (Fuzzy C-Means; C-moyennes floues)</h1>\n",
        "FCM est un algorithme de classification non-supervisée floue. Son principe est le suivant: <br>\n",
        "- Un pixel peut appartenir à plusieurs classes mais selon le degré d’appartenance,<br>\n",
        "- Chaque degré exprime l’appartenance incertaine d’un pixel à  une région donnée, <br>\n",
        "- Le degré d’appartenance se situe dans l’intervalle [0, 1] et les classes obtenues ne sont pas forcément disjointes.<br>"
      ]
    },
    {
      "cell_type": "markdown",
      "source": [
        "## <h3> Avantages</h3>\n",
        "1- Non-supervisé <br>\n",
        "2- Converge toujours"
      ],
      "metadata": {
        "id": "vich0z8VyibJ"
      }
    },
    {
      "cell_type": "markdown",
      "source": [
        "## <h3> Inconvénients </h3>\n",
        "1- Le principal inconvénient de ces méthodes réside dans le fait que la classification ne repose que sur l’intensité des éléments de volume sans prendre en compte l’information spatiale, ce qui la rend sensible au bruit et a l’hétérogénéité d’intensité, <br>\n",
        "2- Longue durée de calcule, <br>\n",
        "4- Sensibilité a la conjecture initiale (vitesse, minimums locaux,bruit). <br>"
      ],
      "metadata": {
        "id": "Uom31gzjylvx"
      }
    },
    {
      "cell_type": "markdown",
      "source": [
        "## <h3> Algorithme </h3>\n",
        "1- Fixer les paramètres : C : le nombre de classes, m: degré de flou, ε : critère d’arrêt, <br>\n",
        "2- Initialiser la matrice de degrés d’appartenance U par des valeurs aléatoires dans l’intervalle [0,1], <br>\n",
        "3- Calculer les centroïdes des classes, <br>\n",
        "4- Mettre à jour la matrice degrés d’appartenance suivant la position des centroïdes, <br>\n",
        "5- Répéter les étapes 3 à 4 jusqu’à satisfaction du critère d’arrêt.<br>"
      ],
      "metadata": {
        "id": "yYJA4Kr6ypOZ"
      }
    },
    {
      "cell_type": "markdown",
      "source": [
        "# <h2> 2.3- Expectation Maximisation (EM)</h2>\n",
        "L'Expectation Maximisation (EM) est utilisé pour trouver l’estimation du maximum de vraisemblance à partir d’un ensemble de données. Le choix initial des paramètres affecte le déroulement de la classification jusqu’à générer des clusters incohérents.<br>\n"
      ],
      "metadata": {
        "id": "TGzqx_c7y0gr"
      }
    },
    {
      "cell_type": "markdown",
      "metadata": {
        "id": "F8U0kvIsLcqa"
      },
      "source": [
        "## <h3>Algorithme</h3>\n",
        "1- Initialisation : Choisir des paramètres initiaux : <br>\n",
        "\n",
        "> μj : la moyenne de chaque cluster,<br>\n",
        "> σ : la variance , <br>\n",
        "> P(Cj) : la proportion de chaque classe. <br>\n",
        "\n",
        "2- Étape E : Estimer la probabilité que le vecteur x des pixels appartient à un cluster,<br> \n",
        "3- Étape M: Mise à jour les paramètres, <br>\n",
        "4- Répéter l'itération de base, jusqu'à stabilisation des paramètres. <br>"
      ]
    },
    {
      "cell_type": "markdown",
      "source": [
        "# <h2>2.4- Mean-Shift</h2>\n",
        "Le Mean-Shift est une méthode de clustering basée sur l’estimation de densité. <h3>Principe</h3>\n",
        "Chaque pixel est représenté par un point dans l’espace à N dimensions pour ce faire, on calcule la densité locale en un point et on déplace itérativement la fenêtre en direction du gradient de densité maximum."
      ],
      "metadata": {
        "id": "X9HEZM8Gy_Ri"
      }
    },
    {
      "cell_type": "markdown",
      "metadata": {
        "id": "E5lmtwXVRqsy"
      },
      "source": [
        "## <h3>Algorithme</h3>\n",
        "1- Choisir une répartition uniforme des fenêtres de recherche initiales,<br>\n",
        "2- Calculer le centroide des données pour chaque fenêtre, <br>\n",
        "3- Centrer la fenêtre de recherche sur le centroide de l'étape 2,<br> \n",
        "4- Répéter les étapes 2 et 3 jusqu'un à convergence, <br>\n",
        "5- Fusionner les fenêtres se trouvant au même point final,<br> \n",
        "6- Grouper les données traversées par les fenêtres fusionnées.<br>"
      ]
    },
    {
      "cell_type": "markdown",
      "metadata": {
        "id": "rDHVzW7nAdVV"
      },
      "source": [
        "# <h1> 3- Implémentation </h1>\n",
        "En ImageMining, nous avons deux façons pour appliquer (utiliser) le Clustering.\n",
        "  \n",
        "\n",
        "1.   Regrouper une base d’images en des sous-ensembles. Par exemple, nous avons une base d'image contenant une multitude de types d'images; images aériennes, images des animaux, images des vehicules, ... et on veut regrouper chacune des images de la base dans sa catégoorie.\n",
        "2.   Segmenter des images. \n",
        "\n",
        "\n",
        "Dans cet atelier, nous allons tout d'abord faire le clustering de deux bases d'images<br>\n",
        "\n",
        "1. Images à regrouper en 2 classes<br>\n",
        "2. Image à regrouper en 4 classes<br>\n",
        "\n",
        "Le resultats du clustering sera enregistré dans un fichier *.csv en respectant la forme suivante:\n",
        "\n",
        "image_name,class\n",
        "image1.jpg,1\n",
        "image2.jpg,2\n",
        "image3.jpg,1\n",
        "\n",
        "Par la suite nous allons segmenter des images utilisant un algorithme de clustering et aussi nous allons appliquer la classification supervisée pour la segmentation d'images. "
      ]
    },
    {
      "cell_type": "markdown",
      "metadata": {
        "id": "c5lMSpDzDgWk"
      },
      "source": [
        "## <h2>3.1- Clustering d'une base d'images en 2 classes</h2>\n",
        "L'objectif est de regrouper les images de la base d'images \"2Classes\" en 2 classes. Visuellement, les images peuvent étre regouées en les classes \"Cartes\" et \"Nature\". \n",
        "Il faut developper un modéle capable de séparer les images correctement."
      ]
    },
    {
      "cell_type": "markdown",
      "metadata": {
        "id": "Obu-9ZnhEgXh"
      },
      "source": [
        "###<h3>3.1.1- Extraction de caractéristiques (features extraction)</h3> \n",
        "\n",
        "Il est très pratique d'utiliser les caractéristiques d'une image à la place des valeurs d'intensité de chaque pixel dans un processus de classification.  \n",
        "\n",
        "Ainsi, la première étape du ce processus et l’extraction de caractéristiques. Dans cet atelier, 81 caractéristiques a utiliser et qui sont : \n",
        "\n",
        "- Les moments statistiques (moyenne et standard déviation) dans l'espace R, G et B ==> 6 caractéristiques \n",
        "\n",
        "- l'histogramme quantifié (8,2,2) cumulatif dans l'espace HSV ==> 32 caractéristiques \n",
        "\n",
        "- Le Contraste, la Corrélation, l'Energie el l'Homogénéité calculées à partir de la matrice GLCM pour la texture ==> 4 caractéristiques \n",
        "\n",
        "- L'histogramme du vecteur LBP sur l'image à niveau de gris pour la caractérisation de la texture ==> 32 caractéristiques \n",
        "\n",
        "- Les moments de Hu pour la caractérisation de la forme ==> 7 caractéristiques "
      ]
    },
    {
      "cell_type": "code",
      "source": [
        "from google.colab import drive\n",
        "drive.mount('/content/drive')"
      ],
      "metadata": {
        "id": "urz3CStvHfeT",
        "colab": {
          "base_uri": "https://localhost:8080/"
        },
        "outputId": "f4f6385d-0989-4703-db39-8d1441b01625"
      },
      "execution_count": null,
      "outputs": [
        {
          "output_type": "stream",
          "name": "stdout",
          "text": [
            "Mounted at /content/drive\n"
          ]
        }
      ]
    },
    {
      "cell_type": "code",
      "source": [
        "import cv2\n",
        "import cv2 as cv\n",
        "import numpy as np\n",
        "import skimage.feature as feature\n",
        "from skimage.feature import local_binary_pattern\n",
        "import matplotlib.pyplot as plt\n"
      ],
      "metadata": {
        "id": "nalNYYRn6v-K"
      },
      "execution_count": null,
      "outputs": []
    },
    {
      "cell_type": "markdown",
      "source": [
        "#Feature Extraction"
      ],
      "metadata": {
        "id": "7iCyVqcS6M2e"
      }
    },
    {
      "cell_type": "code",
      "source": [
        "def color_Moments(img):\n",
        "  height = img.shape[0]\n",
        "  width = img.shape[1]\n",
        "  listR = []\n",
        "  listG = []\n",
        "  listB = []\n",
        "  somme=0\n",
        "  for i in range(width):\n",
        "    for j in range(height):\n",
        "        \n",
        "        # getting the RGB pixel value.\n",
        "        r, g, b = img[j][i]\n",
        "        listR.append(r)\n",
        "        listG.append(g)\n",
        "        listB.append(b)\n",
        "\n",
        "  list=[]\n",
        "  list.append(np.mean(listR))\n",
        "  list.append(np.std(listR))\n",
        "  list.append(np.mean(listG))\n",
        "  list.append(np.std(listG))\n",
        "  list.append(np.mean(listB))\n",
        "  list.append(np.std(listB))\n",
        "  colorFeatures=np.array(list)\n",
        "  \n",
        "  return colorFeatures"
      ],
      "metadata": {
        "id": "yWsYDUifHH7I"
      },
      "execution_count": null,
      "outputs": []
    },
    {
      "cell_type": "code",
      "source": [
        "def hsvHistogramFeatures(image):\n",
        "  img_HSV = cv2.cvtColor(image, cv2.COLOR_BGR2HSV)\n",
        "  hist = cv2.calcHist([img_HSV], [0, 1, 2], None, [8, 2, 2],[0, 180, 0, 256, 0, 256])\n",
        "  hist = cv2.normalize(hist, hist).flatten()\n",
        "  return hist"
      ],
      "metadata": {
        "id": "YjCcFJ6fHIx2"
      },
      "execution_count": null,
      "outputs": []
    },
    {
      "cell_type": "code",
      "source": [
        "def form(image):\n",
        "  img = cv2.cvtColor(image, cv2.COLOR_BGR2GRAY)\n",
        "  contours,v = cv2.findContours(img, 1, 2)\n",
        "  cnt = contours[0]\n",
        "  m = cv2.moments(cnt)\n",
        "  huMoments = cv2.HuMoments(m)\n",
        "  huMoments = np.ravel(huMoments)\n",
        "  return huMoments"
      ],
      "metadata": {
        "id": "uRRDw_n1HI9M"
      },
      "execution_count": null,
      "outputs": []
    },
    {
      "cell_type": "code",
      "source": [
        "def texture (image) :\n",
        "  gray = cv2.cvtColor(image, cv2.COLOR_BGR2GRAY)\n",
        "  graycom = feature.greycomatrix(gray, [1], [0, np.pi/4, np.pi/2, 3*np.pi/4], levels=256)\n",
        "  contrast = feature.greycoprops(graycom, 'contrast')\n",
        "  homogeneity = feature.greycoprops(graycom, 'homogeneity')\n",
        "  energy = feature.greycoprops(graycom, 'energy')\n",
        "  correlation = feature.greycoprops(graycom, 'correlation')\n",
        "  list=[]\n",
        "  list.append(np.mean(contrast/np.sum(contrast)))\n",
        "  list.append(np.mean(homogeneity/np.sum(homogeneity)))\n",
        "  list.append(np.mean(energy/np.sum(energy)))\n",
        "  list.append(np.mean(correlation/np.sum(correlation)))\n",
        "\n",
        "  list = np.ravel(list)\n",
        "  return list"
      ],
      "metadata": {
        "id": "ncVFTmmCHJfe"
      },
      "execution_count": null,
      "outputs": []
    },
    {
      "cell_type": "code",
      "source": [
        "def lbpHistogramFeatures(image):\n",
        "  radius = 3\n",
        "  n_points = 10 * radius\n",
        "  image = cv2.cvtColor(image, cv2.COLOR_BGR2GRAY)\n",
        "  lbp = local_binary_pattern(image, n_points, radius, 'uniform')\n",
        "  n_bins = int(lbp.max() + 1)\n",
        "  hist, _ = np.histogram(lbp, density=True, bins=n_bins, range=(0, n_bins))\n",
        "  return hist"
      ],
      "metadata": {
        "id": "qr6c2K3wHJqV"
      },
      "execution_count": null,
      "outputs": []
    },
    {
      "cell_type": "code",
      "metadata": {
        "id": "vh1m8sM_GiUk",
        "colab": {
          "base_uri": "https://localhost:8080/"
        },
        "outputId": "4428ff17-6497-4444-d395-e15bb29d6380"
      },
      "source": [
        "# Variables globales \n",
        "# color_Moments 6 \n",
        "# hsvHistogramFeatures 32 \n",
        "# textureFeatures 4 \n",
        "# shapeFeatures 7 \n",
        "# lbp_histogram 32 \n",
        "# Total 81 \n",
        "featuresNumber=82 \n",
        "\n",
        "# pour les bases d'images en 2 et 4 Classes \n",
        "# Télécharger les bases d'images en cliquant sur le lien suivant : \n",
        "\"\"\" \n",
        "https://drive.google.com/drive/folders/1zPDohqJL7vb_toVEWBmfO7UuhZd_HaNN?usp=sharing \n",
        "\n",
        "Il faut copier le dossier DB_Clustering sur votre Drive.  \n",
        "Et ne pas oublier d'autoriser l'accès au Drive \n",
        "\"\"\" \n",
        "n_clusters=2 \n",
        "path2=\"/content/drive/MyDrive/dataset/DB_Clustering/2Classes\" \n",
        "\n",
        "# pour 4 Classes \n",
        "path4=\"/content/drive/MyDrive/dataset/DB_Clustering/4Classes\" \n",
        "\n",
        "from google.colab import drive \n",
        "drive.mount('/content/drive') "
      ],
      "execution_count": null,
      "outputs": [
        {
          "output_type": "stream",
          "name": "stdout",
          "text": [
            "Drive already mounted at /content/drive; to attempt to forcibly remount, call drive.mount(\"/content/drive\", force_remount=True).\n"
          ]
        }
      ]
    },
    {
      "cell_type": "code",
      "metadata": {
        "id": "tCaVJ46155Vp"
      },
      "source": [
        "# Code pour l'extraction des caracéristiques pour une image\n",
        "def getFeatures(image):\n",
        "  # color_Moments 6 \n",
        "  # hsvHistogramFeatures 32 \n",
        "  # textureFeatures 4 \n",
        "  # shapeFeatures 7 \n",
        "  # lbp_histogram 32 \n",
        "  # Total 81 \n",
        "  cl_moments = color_Moments(image)\n",
        "  hist = hsvHistogramFeatures(image)\n",
        "  frm=form(image)\n",
        "  txt=texture(image)\n",
        "  lbp=lbpHistogramFeatures(image)\n",
        "  features=[]\n",
        "  \n",
        "  for i in range(len(cl_moments)):\n",
        "    features.insert(i,cl_moments[i])\n",
        "  \n",
        "  for i in range(len(hist)):\n",
        "    features.insert(i+len(cl_moments),hist[i])\n",
        "  \n",
        "  for i in range(len(frm)):\n",
        "    features.insert(i+len(cl_moments)+len(hist),frm[i])\n",
        "  \n",
        "  for i in range(len(txt)):\n",
        "    features.insert(i+len(cl_moments)+len(frm)+len(hist),txt[i])\n",
        "  \n",
        "  for i in range(len(lbp)):\n",
        "    features.insert(i+len(cl_moments)+len(frm)+len(hist)+len(txt),lbp[i])\n",
        "  \n",
        "  features = features/np.mean(features)\n",
        "  return features"
      ],
      "execution_count": null,
      "outputs": []
    },
    {
      "cell_type": "code",
      "metadata": {
        "id": "C4yw3c0428jr"
      },
      "source": [
        "import os\n",
        "def createFeatures(dataset_path):\n",
        "  \"\"\"\n",
        "  Input: dataset_path: nom du dossier contenant les images par dossier (classe)\n",
        "  Outpurs:\n",
        "  features: Matrice de caractéristiques de taille (nombre_d_image x nombre_features)\n",
        "  image_names: Vecteur retournant les noms des images de la base. \n",
        "  \"\"\"\n",
        "  image_names=[]\n",
        "  features = []\n",
        "  dirs = os.listdir(dataset_path)\n",
        "  dirs.sort()\n",
        "  for image_name in dirs:\n",
        "    image_path = dataset_path + \"/\" + image_name\n",
        "    image = cv.imread(image_path)\n",
        "    feature = getFeatures(image)\n",
        "    features.append(feature)\n",
        "    image_names.append(image_name)\n",
        "  return features, image_names"
      ],
      "execution_count": null,
      "outputs": []
    },
    {
      "cell_type": "code",
      "metadata": {
        "id": "bDw7zE7NFupW",
        "collapsed": true
      },
      "source": [
        "features, image_names=createFeatures(path2)"
      ],
      "execution_count": null,
      "outputs": []
    },
    {
      "cell_type": "code",
      "metadata": {
        "id": "KmX_1mJKHx3E",
        "colab": {
          "base_uri": "https://localhost:8080/"
        },
        "outputId": "dc672831-5f11-4522-d349-25b8cc543b8e"
      },
      "source": [
        "print(np.array(image_names).shape)"
      ],
      "execution_count": null,
      "outputs": [
        {
          "output_type": "stream",
          "name": "stdout",
          "text": [
            "(200,)\n"
          ]
        }
      ]
    },
    {
      "cell_type": "markdown",
      "metadata": {
        "id": "vY3fh8SjLEO0"
      },
      "source": [
        "###<h2>3.1.2 Clustering avec le Kmeans</h2>\n",
        "Nous allons appliquer l'algorithme Kmeans sur la matrice de caractéristiques"
      ]
    },
    {
      "cell_type": "code",
      "metadata": {
        "id": "58OZsGJELbTQ",
        "colab": {
          "base_uri": "https://localhost:8080/"
        },
        "outputId": "80f4ab69-516d-4516-d85f-3dd8f49082f0"
      },
      "source": [
        "from sklearn.cluster import KMeans\n",
        "from sklearn.preprocessing import QuantileTransformer\n",
        "n_clusters=2\n",
        "kmeans = KMeans(n_clusters=n_clusters, algorithm=\"elkan\", n_init=100, init='random')\n",
        "img_features = QuantileTransformer(n_quantiles=10).fit_transform(features)\n",
        "kmeans.fit(img_features)\n",
        "print(kmeans.labels_)"
      ],
      "execution_count": null,
      "outputs": [
        {
          "output_type": "stream",
          "name": "stdout",
          "text": [
            "[1 1 1 1 1 1 1 1 1 1 1 1 1 1 1 1 1 1 1 1 1 1 1 1 1 1 1 1 1 1 1 1 1 1 1 1 1\n",
            " 1 1 1 1 1 1 1 1 1 1 1 1 1 1 1 1 1 1 1 1 1 1 1 1 1 1 1 1 1 1 1 1 1 1 1 1 1\n",
            " 1 1 1 1 1 1 1 1 1 1 1 1 1 1 1 1 1 1 1 1 1 1 1 1 1 1 0 0 0 0 0 0 0 0 0 0 0\n",
            " 0 0 0 0 0 0 0 0 0 0 0 0 0 0 0 0 1 0 0 0 0 0 0 1 0 1 0 0 0 0 0 0 0 0 0 0 0\n",
            " 0 0 0 0 0 0 0 0 0 0 0 0 0 0 0 0 0 0 0 0 0 0 0 0 0 0 0 0 0 0 0 0 0 0 0 0 0\n",
            " 0 0 0 0 0 0 0 0 0 0 0 0 0 0 0]\n"
          ]
        }
      ]
    },
    {
      "cell_type": "markdown",
      "metadata": {
        "id": "nZcdyCelS4xr"
      },
      "source": [
        "importation des résultats dans un fichier *.csv en respectant la forme :\n",
        "Image_name,Class\n",
        "nom_de_l_image1,classe_prédite1\n",
        "nom_de_l_image2,classe_prédite2\n",
        "....\n"
      ]
    },
    {
      "cell_type": "code",
      "metadata": {
        "id": "1FhviTGhL84l"
      },
      "source": [
        "import pandas as pd\n",
        "def importToCsv(imgNm, pred_lbl, file_name):\n",
        "  data = {'image_name': imgNm,\n",
        "          'Class': pred_lbl\n",
        "          }\n",
        "  df = pd.DataFrame(data, columns= ['image_name', 'Class'])\n",
        "  df.to_csv (file_name, index = False, header=True)"
      ],
      "execution_count": null,
      "outputs": []
    },
    {
      "cell_type": "code",
      "metadata": {
        "id": "Tvoe_yahMSAg"
      },
      "source": [
        "importToCsv(image_names, kmeans.labels_,'cluster_Kmeans.csv')"
      ],
      "execution_count": null,
      "outputs": []
    },
    {
      "cell_type": "markdown",
      "metadata": {
        "id": "d2HQ3TslZP9o"
      },
      "source": [
        "En vérifiant le résultat de clustering, nous avons obtenu un taux égal à 91.5% avec l’algorithme Kmeans"
      ]
    },
    {
      "cell_type": "markdown",
      "metadata": {
        "id": "HyAjwqPuzYGB"
      },
      "source": [
        "### <h3>3.1.2- KMedoids</h3>\n",
        "Dans cette partie, nous allons appliquer l'algorithme de classification non-supervisée KMedoids sur la mème matrice de caractéristiques"
      ]
    },
    {
      "cell_type": "code",
      "metadata": {
        "id": "tCE03vJJTDAz",
        "colab": {
          "base_uri": "https://localhost:8080/"
        },
        "outputId": "481032b4-33a5-4674-bda9-abe7448b42ad"
      },
      "source": [
        "# Il faut installer scikit-learn-extra pour pouvoir utiliser KMedoids\n",
        "!pip install scikit-learn-extra\n",
        "from sklearn_extra.cluster import KMedoids\n",
        "kmedoids = KMedoids(n_clusters=n_clusters, random_state=0)\n",
        "kmedoids.fit(features)"
      ],
      "execution_count": null,
      "outputs": [
        {
          "output_type": "stream",
          "name": "stdout",
          "text": [
            "Looking in indexes: https://pypi.org/simple, https://us-python.pkg.dev/colab-wheels/public/simple/\n",
            "Collecting scikit-learn-extra\n",
            "  Downloading scikit_learn_extra-0.2.0-cp38-cp38-manylinux2010_x86_64.whl (1.9 MB)\n",
            "\u001b[K     |████████████████████████████████| 1.9 MB 7.0 MB/s \n",
            "\u001b[?25hRequirement already satisfied: scipy>=0.19.1 in /usr/local/lib/python3.8/dist-packages (from scikit-learn-extra) (1.7.3)\n",
            "Requirement already satisfied: scikit-learn>=0.23.0 in /usr/local/lib/python3.8/dist-packages (from scikit-learn-extra) (1.0.2)\n",
            "Requirement already satisfied: numpy>=1.13.3 in /usr/local/lib/python3.8/dist-packages (from scikit-learn-extra) (1.21.6)\n",
            "Requirement already satisfied: threadpoolctl>=2.0.0 in /usr/local/lib/python3.8/dist-packages (from scikit-learn>=0.23.0->scikit-learn-extra) (3.1.0)\n",
            "Requirement already satisfied: joblib>=0.11 in /usr/local/lib/python3.8/dist-packages (from scikit-learn>=0.23.0->scikit-learn-extra) (1.2.0)\n",
            "Installing collected packages: scikit-learn-extra\n",
            "Successfully installed scikit-learn-extra-0.2.0\n"
          ]
        },
        {
          "output_type": "execute_result",
          "data": {
            "text/plain": [
              "KMedoids(n_clusters=2, random_state=0)"
            ]
          },
          "metadata": {},
          "execution_count": 20
        }
      ]
    },
    {
      "cell_type": "markdown",
      "metadata": {
        "id": "f_KAPvpYUHhN"
      },
      "source": [
        "importation des résultats:"
      ]
    },
    {
      "cell_type": "code",
      "metadata": {
        "id": "VYthmo4xUK3j"
      },
      "source": [
        "importToCsv(image_names, kmedoids.labels_,'cluster_KMedoids.csv')"
      ],
      "execution_count": null,
      "outputs": []
    },
    {
      "cell_type": "markdown",
      "metadata": {
        "id": "32q9eYPYaG61"
      },
      "source": [
        "Après vérification des résultats de clustering, le KMedoids nous a permis d'avoir un taux égal à 86.5%"
      ]
    },
    {
      "cell_type": "markdown",
      "metadata": {
        "id": "zH_bzY73Uadf"
      },
      "source": [
        "###<h3>3.1.3- Clustering Hierarchique</h3>\n",
        "Nous allons utiliser un clustering hiérarchique en se basant sur l'algorithme AgglomerativeClustering utilisant la mème matrice de caractéristiques"
      ]
    },
    {
      "cell_type": "code",
      "metadata": {
        "id": "_Gf8vK41UnFS",
        "colab": {
          "base_uri": "https://localhost:8080/"
        },
        "outputId": "a3441921-cdd2-4b5c-fb41-a214ededb15c"
      },
      "source": [
        "from sklearn.cluster import AgglomerativeClustering\n",
        "\n",
        "hc_agg = AgglomerativeClustering(n_clusters=n_clusters)\n",
        "hc_agg.fit(features)\n"
      ],
      "execution_count": null,
      "outputs": [
        {
          "output_type": "execute_result",
          "data": {
            "text/plain": [
              "AgglomerativeClustering()"
            ]
          },
          "metadata": {},
          "execution_count": 22
        }
      ]
    },
    {
      "cell_type": "markdown",
      "metadata": {
        "id": "WESmb3JKU30Z"
      },
      "source": [
        "Importation des résultats"
      ]
    },
    {
      "cell_type": "code",
      "metadata": {
        "id": "bk_0SzvlU5fF",
        "colab": {
          "base_uri": "https://localhost:8080/"
        },
        "outputId": "6381d9fc-bd62-4a97-eaca-5cb1ec528089"
      },
      "source": [
        "importToCsv(image_names, hc_agg.labels_,'cluster_Hierarchical.csv')\n",
        "print(np.array(hc_agg.labels_).shape)"
      ],
      "execution_count": null,
      "outputs": [
        {
          "output_type": "stream",
          "name": "stdout",
          "text": [
            "(200,)\n"
          ]
        }
      ]
    },
    {
      "cell_type": "markdown",
      "metadata": {
        "id": "mvuZ5CLwdTGe"
      },
      "source": [
        "Aprés vérification des résultats de clustering, le Clustering Hierarchique nous a permis d'avoir un taux égal à 91.5%"
      ]
    },
    {
      "cell_type": "markdown",
      "metadata": {
        "id": "pRiWUrNvVzgM"
      },
      "source": [
        "### <h3>3.1.4 FCM <h3>\n",
        "Pour une 4éme implémentation du clustering, nous allons utiliser l'algorithme FCM"
      ]
    },
    {
      "cell_type": "code",
      "metadata": {
        "id": "GqX7syNxV4Z-",
        "colab": {
          "base_uri": "https://localhost:8080/"
        },
        "outputId": "8bd23e92-b35a-41a7-fe01-e7413507803d"
      },
      "source": [
        "#pip install -U scikit-fuzzy\n",
        "#import skfuzzy as fuzz\n",
        "!pip install fuzzy-c-means\n",
        "from fcmeans import FCM\n",
        "fcm = FCM(n_clusters=n_clusters)\n",
        "fcm.fit(np.array(features))\n",
        "fcm_labels = fcm.predict(np.array(features))\n"
      ],
      "execution_count": null,
      "outputs": [
        {
          "output_type": "stream",
          "name": "stdout",
          "text": [
            "Looking in indexes: https://pypi.org/simple, https://us-python.pkg.dev/colab-wheels/public/simple/\n",
            "Collecting fuzzy-c-means\n",
            "  Downloading fuzzy_c_means-1.6.3-py3-none-any.whl (9.1 kB)\n",
            "Collecting typer<0.4.0,>=0.3.2\n",
            "  Downloading typer-0.3.2-py3-none-any.whl (21 kB)\n",
            "Requirement already satisfied: numpy<2.0.0,>=1.21.1 in /usr/local/lib/python3.8/dist-packages (from fuzzy-c-means) (1.21.6)\n",
            "Requirement already satisfied: pydantic<2.0.0,>=1.8.2 in /usr/local/lib/python3.8/dist-packages (from fuzzy-c-means) (1.10.2)\n",
            "Requirement already satisfied: tabulate<0.9.0,>=0.8.9 in /usr/local/lib/python3.8/dist-packages (from fuzzy-c-means) (0.8.10)\n",
            "Requirement already satisfied: typing-extensions>=4.1.0 in /usr/local/lib/python3.8/dist-packages (from pydantic<2.0.0,>=1.8.2->fuzzy-c-means) (4.4.0)\n",
            "Requirement already satisfied: click<7.2.0,>=7.1.1 in /usr/local/lib/python3.8/dist-packages (from typer<0.4.0,>=0.3.2->fuzzy-c-means) (7.1.2)\n",
            "Installing collected packages: typer, fuzzy-c-means\n",
            "  Attempting uninstall: typer\n",
            "    Found existing installation: typer 0.7.0\n",
            "    Uninstalling typer-0.7.0:\n",
            "      Successfully uninstalled typer-0.7.0\n",
            "Successfully installed fuzzy-c-means-1.6.3 typer-0.3.2\n"
          ]
        }
      ]
    },
    {
      "cell_type": "markdown",
      "metadata": {
        "id": "k2emrNFyYo4u"
      },
      "source": [
        "Importation des résultats"
      ]
    },
    {
      "cell_type": "code",
      "metadata": {
        "id": "jVPI6OrvYq1L"
      },
      "source": [
        "importToCsv(image_names, fcm_labels,'cluster_FCM.csv')"
      ],
      "execution_count": null,
      "outputs": []
    },
    {
      "cell_type": "markdown",
      "metadata": {
        "id": "BbpSRul9c-wB"
      },
      "source": [
        "Aprés vérification des résultats de clustering, le FCM nous a permis d'avoir un taux égal à 85.5%"
      ]
    },
    {
      "cell_type": "markdown",
      "metadata": {
        "id": "5VrPgjsBwBx2"
      },
      "source": [
        "## <h1>3.2- Clustering en 4 classes </h1> \n",
        "Dans cette partie nous allons faire un clustering de la base d'image \"4Classes\" en 4 classes. Nous avons opter pour l'algorithme de clustering K-Means et nous allons sauvegarder le résultat dans un fichier *.csv. "
      ]
    },
    {
      "cell_type": "code",
      "metadata": {
        "id": "WK-6ozr_xN0j",
        "collapsed": true,
        "colab": {
          "base_uri": "https://localhost:8080/"
        },
        "outputId": "7672050e-7b13-4294-fb9a-1c61ec359368"
      },
      "source": [
        "# Extraction des caractéristiques\n",
        "features, image_names=createFeatures(path4)\n",
        "\n",
        "# Clusetring\n",
        "from sklearn.cluster import KMeans\n",
        "from sklearn.preprocessing import QuantileTransformer\n",
        "n_clusters=4\n",
        "kmeans = KMeans(n_clusters=n_clusters, algorithm=\"elkan\", n_init=100, init='random')\n",
        "img_features = QuantileTransformer(n_quantiles=10).fit_transform(features)\n",
        "kmeans.fit(img_features)\n",
        "print(kmeans.labels_)\n",
        "\n",
        "# Importation du résultat\n",
        "importToCsv(image_names, kmeans.labels_,'cluster_Kmeans4C.csv')\n"
      ],
      "execution_count": null,
      "outputs": [
        {
          "output_type": "stream",
          "name": "stdout",
          "text": [
            "[1 1 1 2 1 1 1 1 1 1 1 1 1 1 1 1 1 1 1 1 1 1 1 1 1 1 1 1 1 1 1 1 1 1 1 1 1\n",
            " 1 1 1 1 1 1 1 3 1 1 1 3 1 1 1 1 1 1 1 1 3 1 2 1 1 3 1 1 1 1 2 1 1 1 1 1 1\n",
            " 1 1 1 1 1 1 1 1 2 1 1 1 1 1 1 1 1 1 1 1 1 1 1 1 1 1 0 0 0 0 0 0 0 0 0 0 0\n",
            " 0 0 0 0 0 0 0 0 0 0 0 0 0 0 0 0 1 0 0 0 0 0 0 1 0 1 0 0 0 0 0 0 0 0 0 0 0\n",
            " 0 0 0 0 0 0 0 0 0 0 0 0 0 0 0 0 0 0 0 0 0 0 0 0 0 0 0 0 0 0 0 0 0 0 0 0 0\n",
            " 0 0 0 0 0 0 0 0 0 0 0 0 0 0 0 2 2 2 2 2 2 2 2 2 2 2 2 2 2 2 2 2 2 2 2 2 2\n",
            " 2 2 2 2 2 2 2 2 2 2 2 2 2 2 2 2 2 2 2 2 2 2 2 2 2 2 2 2 2 2 2 2 2 2 2 2 2\n",
            " 2 2 2 2 2 2 2 2 2 2 2 2 2 2 2 2 2 2 2 2 2 2 2 2 2 2 2 2 2 2 2 2 2 2 2 2 2\n",
            " 2 2 2 2 3 3 3 3 3 3 3 3 3 3 3 3 3 3 3 3 3 3 3 3 3 3 3 3 3 3 3 3 3 3 3 3 3\n",
            " 3 3 3 3 3 3 3 3 3 3 3 3 3 3 3 3 3 3 3 3 3 3 3 3 3 3 3 3 3 3 3 3 3 3 3 3 3\n",
            " 3 3 3 3 3 3 3 3 3 3 3 3 3 3 3 3 3 3 3 3 3 3 3 3 3 3 3 3 3 3]\n"
          ]
        }
      ]
    },
    {
      "cell_type": "markdown",
      "metadata": {
        "id": "InfrAKvVPLbx"
      },
      "source": [
        "## <h1>3.3- Segmentation des images </h1>\n",
        "### <h3> 3.3.1- Utilisant les intensités des pixels </h3>\n",
        "Dans cette partie, nous allons voir comme appliquer les algorithmes de clustering pour la segmentation des images. Nous allons utiliser les intensités des pixels comme information de clustering.\n",
        "\n",
        "Nous allons dans un premier temps segmenter l'image à niveau de gris et par la suite segmenter l'image couleur dans l'espace RGB"
      ]
    },
    {
      "cell_type": "code",
      "source": [
        "def From2DTo1D (img):\n",
        "    new_img = img.reshape((img.shape[0]*img.shape[1])).reshape(-1,1)\n",
        "    return new_img\n",
        "\n",
        "def From1DTo2D(image,hight,width):\n",
        "    return image.reshape((hight,width))"
      ],
      "metadata": {
        "id": "H0OzdtLkIVys"
      },
      "execution_count": null,
      "outputs": []
    },
    {
      "cell_type": "code",
      "metadata": {
        "collapsed": true,
        "colab": {
          "base_uri": "https://localhost:8080/",
          "height": 324
        },
        "id": "9GOXw6kNhYUa",
        "outputId": "db6233dc-ad4c-4a46-8f82-0133a6465bd9"
      },
      "source": [
        "from matplotlib import image\n",
        "\n",
        "image_path=\"/content/drive/MyDrive/dataset/Image_clustering/1.bmp\"\n",
        "imge=image.imread(image_path)\n",
        "img= cv2.cvtColor(imge, cv2.COLOR_RGB2GRAY)\n",
        "print(img.shape)\n",
        "# Code pour aplatir de l'image: 2D => 1D\n",
        "img_reshape= From2DTo1D(img)\n",
        "print(img_reshape.shape)\n",
        "# Appliquer le K-means\n",
        "model_kmeans1 = KMeans(n_clusters = 2).fit(img_reshape)\n",
        "label1 = model_kmeans1.labels_\n",
        "# Reconstruire le mask de segmentation 2D à partir des classes obtenues 1D\n",
        "mask=From1DTo2D(label1,img.shape[0],img.shape[1])\n",
        "\n",
        "#Afficher le mask de segmentation obtenu\n",
        "import matplotlib.pyplot as plt\n",
        "plt.imshow(mask)"
      ],
      "execution_count": null,
      "outputs": [
        {
          "output_type": "stream",
          "name": "stdout",
          "text": [
            "(337, 336)\n",
            "(113232, 1)\n"
          ]
        },
        {
          "output_type": "execute_result",
          "data": {
            "text/plain": [
              "<matplotlib.image.AxesImage at 0x7efc8bfc2df0>"
            ]
          },
          "metadata": {},
          "execution_count": 28
        },
        {
          "output_type": "display_data",
          "data": {
            "text/plain": [
              "<Figure size 432x288 with 1 Axes>"
            ],
            "image/png": "[encoded data removed]"
          },
          "metadata": {
            "needs_background": "light"
          }
        }
      ]
    },
    {
      "cell_type": "markdown",
      "source": [
        "Segmenter l'image couleur dans l'espace RGB"
      ],
      "metadata": {
        "id": "f5HugYNSM1pX"
      }
    },
    {
      "cell_type": "code",
      "source": [
        "def From3DTo2D (img):\n",
        "    new_img = img.reshape(((img.shape[0]*img.shape[1])), img.shape[2])\n",
        "    return new_img\n",
        "\n",
        "def From2DTo3D(image,hight,width):\n",
        "    return image.reshape((hight,width))"
      ],
      "metadata": {
        "id": "IyqpvP4w46xD"
      },
      "execution_count": null,
      "outputs": []
    },
    {
      "cell_type": "markdown",
      "source": [
        "Segmenter l'image couleur dans l'espace RGB"
      ],
      "metadata": {
        "id": "GPLJALV3iIOy"
      }
    },
    {
      "cell_type": "code",
      "metadata": {
        "id": "k_5XGX76VHfw",
        "colab": {
          "base_uri": "https://localhost:8080/",
          "height": 287
        },
        "outputId": "c9494210-f1f3-4e0a-b7da-552ad1c25656"
      },
      "source": [
        "image_path=\"/content/drive/MyDrive/dataset/Image_clustering/1.bmp\"\n",
        "imge=image.imread(image_path)\n",
        "#print(imge.shape())\n",
        "hight = imge.shape[0]\n",
        "width = imge.shape[1]\n",
        "# Code pour aplatir de l'image: 3x2D => 3x1D\n",
        "img_reshape=From3DTo2D (imge)\n",
        "# Appliquer le K-means\n",
        "model_kmeans = KMeans(n_clusters = 2).fit(img_reshape)\n",
        "label = model_kmeans.labels_\n",
        "# Reconstruire le mask de segmentation 2D à partir des classes obtenues 1D\n",
        "mask=From2DTo3D(label,hight,width)\n",
        "\n",
        "import matplotlib.pyplot as plt\n",
        "plt.imshow(mask)"
      ],
      "execution_count": null,
      "outputs": [
        {
          "output_type": "execute_result",
          "data": {
            "text/plain": [
              "<matplotlib.image.AxesImage at 0x7efc8ba9b2b0>"
            ]
          },
          "metadata": {},
          "execution_count": 30
        },
        {
          "output_type": "display_data",
          "data": {
            "text/plain": [
              "<Figure size 432x288 with 1 Axes>"
            ],
            "image/png": "[encoded data removed]"
          },
          "metadata": {
            "needs_background": "light"
          }
        }
      ]
    },
    {
      "cell_type": "markdown",
      "source": [
        "### <h3>3.3.1- Utilisant des caractéristiques extraites pour chaque pixel</h3> \n",
        "\n",
        "Contrairement à la partie précédente, dans cette partie nous allons extraire des caractéristiques de chaque pixel en plus de l'intensité ; à savoir la différence avec l'intensité maximale, la différence avec l'intensité minimale, la différence avec la moyenne des intensités et , la différence avec la déviation standard des intensités.  \n",
        "\n",
        "Ce qui va nous permettre d'extraire 5 caractéristiques pour chaque pixel."
      ],
      "metadata": {
        "id": "fAu4mcB1uxYh"
      }
    },
    {
      "cell_type": "code",
      "source": [
        "def get_features5(img):\n",
        "  get_features5 = []\n",
        "  for i in range(img.shape[0]):\n",
        "    get_features5.append([img[i],\n",
        "                  np.abs(img[i]-np.mean(img[:])),\n",
        "                  np.abs(img[i]-np.std(img[:])),\n",
        "                  np.abs(img[i]-np.min(img[:])),\n",
        "                  np.abs(img[i]-np.max(img[:]))])\n",
        "  return get_features5"
      ],
      "metadata": {
        "id": "TPh7DfcuLGym"
      },
      "execution_count": null,
      "outputs": []
    },
    {
      "cell_type": "code",
      "source": [
        "from matplotlib.cbook import flatten\n",
        "import cv2 as cv\n",
        "import numpy as np\n",
        "from sklearn import preprocessing\n",
        "\n",
        "# Extraction des caractéristiques\n",
        "image_path=\"/content/drive/MyDrive/dataset/Image_clustering/1.bmp\"\n",
        "image=cv.imread(image_path)\n",
        "img= cv.cvtColor(image, cv.COLOR_RGB2GRAY)\n",
        "print(img.shape)\n",
        "\n",
        "# Code pour aplatir de l'image: 2D => 1D\n",
        "img_reshape=img.reshape((img.shape[0]*img.shape[1]))\n",
        "\n",
        "# Code pour extraires les caractéristiques de chaque pixel\n",
        "clasteringFeat=np.zeros((img_reshape.shape))\n",
        "clasteringFeat=get_features5(img_reshape)\n",
        "\n",
        "print(np.array(clasteringFeat).shape)\n"
      ],
      "metadata": {
        "colab": {
          "base_uri": "https://localhost:8080/"
        },
        "id": "O_7HQEHmi8px",
        "outputId": "2d8d8fbc-4b95-4ca1-a511-cd2428693b21"
      },
      "execution_count": null,
      "outputs": [
        {
          "output_type": "stream",
          "name": "stdout",
          "text": [
            "(337, 336)\n"
          ]
        },
        {
          "output_type": "stream",
          "name": "stderr",
          "text": [
            "<ipython-input-31-71800d4106c1>:8: RuntimeWarning: overflow encountered in ubyte_scalars\n",
            "  np.abs(img[i]-np.max(img[:]))])\n"
          ]
        },
        {
          "output_type": "stream",
          "name": "stdout",
          "text": [
            "(113232, 5)\n"
          ]
        }
      ]
    },
    {
      "cell_type": "code",
      "source": [
        "# Clustering\n",
        "from sklearn.cluster import KMeans\n",
        "from sklearn.preprocessing import QuantileTransformer\n",
        "n_clusters=2\n",
        "kmeans = KMeans(n_clusters=n_clusters, algorithm=\"elkan\", n_init=100, init='random')\n",
        "img_features = QuantileTransformer(n_quantiles=10).fit_transform(clasteringFeat)\n",
        "kmeans.fit(img_features)\n",
        "print(np.array(clasteringFeat).shape)\n",
        "print(np.array(img_features).shape)\n",
        "# Reconstruire le mask de segmentation 2D à partir des classes obtenues 1D\n",
        "mask=From1DTo2D(kmeans.labels_,img.shape[0],img.shape[1])\n",
        "\n",
        "#Afficher le mask de segmentation obtenu\n",
        "import matplotlib.pyplot as plt\n",
        "plt.imshow(mask)"
      ],
      "metadata": {
        "id": "lnxOdybrSkSM",
        "colab": {
          "base_uri": "https://localhost:8080/",
          "height": 324
        },
        "outputId": "c83a63c7-764f-4d64-f695-860bd339b203"
      },
      "execution_count": null,
      "outputs": [
        {
          "output_type": "stream",
          "name": "stdout",
          "text": [
            "(113232, 5)\n",
            "(113232, 5)\n"
          ]
        },
        {
          "output_type": "execute_result",
          "data": {
            "text/plain": [
              "<matplotlib.image.AxesImage at 0x7efc89454490>"
            ]
          },
          "metadata": {},
          "execution_count": 33
        },
        {
          "output_type": "display_data",
          "data": {
            "text/plain": [
              "<Figure size 432x288 with 1 Axes>"
            ],
            "image/png": "[encoded data removed]"
          },
          "metadata": {
            "needs_background": "light"
          }
        }
      ]
    },
    {
      "cell_type": "markdown",
      "metadata": {
        "id": "ycgjOQqtVuKS"
      },
      "source": [
        "## <h1>3.4- Segmentation d'images par classification supervisée </h1>\n",
        "Dans cette partie nous allons developper un modéle de classification supervisée pour la segmentation des images. \n",
        "\n",
        "Comme entrée du modéle nous aurons une image et son mask de segmentation\n",
        "Ainsi, nous allons créer un vecteur de caractéristiques pour chaque pixel utilisant les intensités respectives en R, G, B, H, S, et V. Nous allons utiliser l'algorithme de classification SVM "
      ]
    },
    {
      "cell_type": "markdown",
      "metadata": {
        "id": "hl9ttnDHzoWH"
      },
      "source": [
        "### <h3>3.4.1- Extraction des caracteristiques </h3>"
      ]
    },
    {
      "cell_type": "code",
      "source": [
        "def color_RGB(img):\n",
        "  height = img.shape[0]\n",
        "  width = img.shape[1]\n",
        "  listRGB = []\n",
        "  somme=0\n",
        "  for i in range(width):\n",
        "    for j in range(height):\n",
        "        \n",
        "        # getting the RGB pixel value.\n",
        "        r, g, b = img[j][i]\n",
        "        listRGB.append([r,g,b])\n",
        "  \n",
        "  return listRGB"
      ],
      "metadata": {
        "id": "CHGcF6a4d18P"
      },
      "execution_count": null,
      "outputs": []
    },
    {
      "cell_type": "code",
      "source": [
        "def color_HSV(img):\n",
        "  img = cv.cvtColor(img, cv.COLOR_BGR2HSV)\n",
        "  height = img.shape[0]\n",
        "  width = img.shape[1]\n",
        "  listHSV = []\n",
        "  somme=0\n",
        "  for i in range(width):\n",
        "    for j in range(height):\n",
        "        # getting the RGB pixel value.\n",
        "        h, s, v = img[j][i]\n",
        "        listHSV.append([h,s,v])\n",
        "  return listHSV"
      ],
      "metadata": {
        "id": "ihlyZAiuew4U"
      },
      "execution_count": null,
      "outputs": []
    },
    {
      "cell_type": "code",
      "metadata": {
        "id": "5XjYV4aeYgKH",
        "colab": {
          "base_uri": "https://localhost:8080/"
        },
        "outputId": "ffdf1708-96ec-4780-c96f-5d751652f6a9"
      },
      "source": [
        "# Charger l'image originale\n",
        "image_path=\"/content/drive/MyDrive/dataset/Image_clustering/1.bmp\"\n",
        "image=cv.imread(image_path)\n",
        "\n",
        "# Features dans l'espace RGB\n",
        "featuresRGB = color_RGB(imge)\n",
        "\n",
        "# Features dans l'espace HSV\n",
        "\n",
        "featuresHSV = color_HSV(imge)\n",
        "\n",
        "# Concatener les caractéristiques dans une variable X\n",
        "X= np.concatenate((featuresRGB,featuresHSV), axis=1)\n",
        "print(X.shape)"
      ],
      "execution_count": null,
      "outputs": [
        {
          "output_type": "stream",
          "name": "stdout",
          "text": [
            "(113232, 6)\n"
          ]
        }
      ]
    },
    {
      "cell_type": "markdown",
      "metadata": {
        "id": "rA3LtzyPzaPj"
      },
      "source": [
        "### <h3>3.4.2- Création des étiquettes</h3>\n",
        "Nous allons utiliser le masque de segmentation fourni pour créer les étiquettes pour chaque pixel."
      ]
    },
    {
      "cell_type": "code",
      "metadata": {
        "id": "YirkIKTVzYCR",
        "colab": {
          "base_uri": "https://localhost:8080/"
        },
        "outputId": "0b6209d1-c6e2-40e8-c75b-8de04b7858d6"
      },
      "source": [
        "import cv2 as cv\n",
        "mask_path=\"/content/drive/MyDrive/dataset/Image_clustering/1_GT.bmp\"\n",
        "imageMask=cv.imread(mask_path, cv.IMREAD_GRAYSCALE)\n",
        "\n",
        "# Concatener les etiquettes dans la variable Y\n",
        "y = imageMask.reshape((img.shape[0]*img.shape[1]))\n",
        "print(np.array(y).shape)\n",
        "print(np.array(imageMask).shape)"
      ],
      "execution_count": null,
      "outputs": [
        {
          "output_type": "stream",
          "name": "stdout",
          "text": [
            "(113232,)\n",
            "(337, 336)\n"
          ]
        }
      ]
    },
    {
      "cell_type": "code",
      "metadata": {
        "id": "jo0VaWkrfTDG",
        "colab": {
          "base_uri": "https://localhost:8080/"
        },
        "outputId": "8ecfb316-d49f-499b-bf5c-b0d708806bf1"
      },
      "source": [
        "X.shape, y.shape"
      ],
      "execution_count": null,
      "outputs": [
        {
          "output_type": "execute_result",
          "data": {
            "text/plain": [
              "((113232, 6), (113232,))"
            ]
          },
          "metadata": {},
          "execution_count": 38
        }
      ]
    },
    {
      "cell_type": "markdown",
      "metadata": {
        "id": "jRlZjHn0zz_M"
      },
      "source": [
        "### <h3>3.4.3- Entrainement et évaluation</h3>"
      ]
    },
    {
      "cell_type": "code",
      "metadata": {
        "id": "HzCaaqNte0Wm",
        "colab": {
          "base_uri": "https://localhost:8080/"
        },
        "outputId": "0794f733-cf0e-40c8-ae3a-6098ab0ff0c0"
      },
      "source": [
        "from sklearn.model_selection import train_test_split\n",
        "X_train, X_test, y_train, y_test = train_test_split(X, y, test_size=0.33, random_state=0)\n",
        "from sklearn import svm\n",
        "clf = svm.SVC()\n",
        "clf.fit(X_train, y_train)"
      ],
      "execution_count": null,
      "outputs": [
        {
          "output_type": "execute_result",
          "data": {
            "text/plain": [
              "SVC()"
            ]
          },
          "metadata": {},
          "execution_count": 39
        }
      ]
    },
    {
      "cell_type": "code",
      "source": [
        "from sklearn.metrics import classification_report, confusion_matrix \n",
        "\n",
        "y_pred = clf.predict(X_test)\n",
        "confusion_matrix(y_test, y_pred)\n",
        "print(clf.score)\n",
        "rapport=classification_report(y_test, y_pred)\n",
        "# Afficher le rapport sous forme de tableau\n",
        "print('Rapport de Classification : \\n',rapport)\n",
        "import sklearn.metrics as metrics\n",
        "print(\"accuracy: \", metrics.accuracy_score(y_test, y_pred))\n",
        "print(\"precision: \", metrics.precision_score(y_test, y_pred, average='macro'))\n",
        "print(\"recall : \", metrics.recall_score(y_test, y_pred, average='macro'))\n",
        "print(\"f1 score: \", metrics.f1_score(y_test, y_pred, average='macro'))"
      ],
      "metadata": {
        "colab": {
          "base_uri": "https://localhost:8080/"
        },
        "id": "KFVO2tqEpBAL",
        "outputId": "5e629fad-d166-4503-b0d5-478e103873d1"
      },
      "execution_count": null,
      "outputs": [
        {
          "output_type": "stream",
          "name": "stdout",
          "text": [
            "<bound method ClassifierMixin.score of SVC()>\n",
            "Rapport de Classification : \n",
            "               precision    recall  f1-score   support\n",
            "\n",
            "           0       0.73      0.35      0.47     14920\n",
            "           1       0.00      0.00      0.00         1\n",
            "           2       0.00      0.00      0.00         3\n",
            "           3       0.00      0.00      0.00         2\n",
            "           4       0.00      0.00      0.00         4\n",
            "           5       0.00      0.00      0.00         4\n",
            "           6       0.00      0.00      0.00         1\n",
            "           7       0.00      0.00      0.00         1\n",
            "           8       0.00      0.00      0.00         1\n",
            "          10       0.00      0.00      0.00         3\n",
            "          11       0.00      0.00      0.00         3\n",
            "          13       0.00      0.00      0.00         1\n",
            "          14       0.00      0.00      0.00         3\n",
            "          15       0.00      0.00      0.00         2\n",
            "          16       0.00      0.00      0.00         1\n",
            "          18       0.00      0.00      0.00         3\n",
            "          19       0.00      0.00      0.00         3\n",
            "          20       0.00      0.00      0.00         4\n",
            "          21       0.00      0.00      0.00         2\n",
            "          22       0.00      0.00      0.00         1\n",
            "          23       0.00      0.00      0.00         3\n",
            "          24       0.00      0.00      0.00         7\n",
            "          26       0.00      0.00      0.00         3\n",
            "          27       0.00      0.00      0.00         1\n",
            "          28       0.00      0.00      0.00         6\n",
            "          29       0.00      0.00      0.00         2\n",
            "          30       0.00      0.00      0.00         2\n",
            "          31       0.00      0.00      0.00         6\n",
            "          32       0.00      0.00      0.00         2\n",
            "          33       0.00      0.00      0.00         1\n",
            "          34       0.00      0.00      0.00         3\n",
            "          35       0.00      0.00      0.00         4\n",
            "          36       0.00      0.00      0.00         6\n",
            "          37       0.00      0.00      0.00         2\n",
            "          38       0.00      0.00      0.00         1\n",
            "          39       0.00      0.00      0.00         2\n",
            "          40       0.00      0.00      0.00         1\n",
            "          41       0.00      0.00      0.00         1\n",
            "          43       0.00      0.00      0.00         5\n",
            "          45       0.00      0.00      0.00         5\n",
            "          46       0.00      0.00      0.00         1\n",
            "          47       0.00      0.00      0.00         3\n",
            "          48       0.00      0.00      0.00         3\n",
            "          49       0.00      0.00      0.00         4\n",
            "          50       0.00      0.00      0.00         3\n",
            "          52       0.00      0.00      0.00         3\n",
            "          53       0.00      0.00      0.00         2\n",
            "          54       0.00      0.00      0.00         3\n",
            "          55       0.00      0.00      0.00         5\n",
            "          57       0.00      0.00      0.00         2\n",
            "          59       0.00      0.00      0.00         1\n",
            "          60       0.00      0.00      0.00         1\n",
            "          61       0.00      0.00      0.00         4\n",
            "          62       0.00      0.00      0.00         6\n",
            "          63       0.00      0.00      0.00         2\n",
            "          64       0.00      0.00      0.00         2\n",
            "          65       0.00      0.00      0.00         2\n",
            "          66       0.00      0.00      0.00         5\n",
            "          67       0.00      0.00      0.00         5\n",
            "          68       0.00      0.00      0.00         1\n",
            "          69       0.00      0.00      0.00         1\n",
            "          70       0.00      0.00      0.00         2\n",
            "          71       0.00      0.00      0.00         2\n",
            "          72       0.00      0.00      0.00         1\n",
            "          73       0.00      0.00      0.00         1\n",
            "          74       0.00      0.00      0.00         3\n",
            "          76       0.00      0.00      0.00         3\n",
            "          77       0.00      0.00      0.00         1\n",
            "          78       0.00      0.00      0.00         1\n",
            "          80       0.00      0.00      0.00         4\n",
            "          82       0.00      0.00      0.00         1\n",
            "          84       0.00      0.00      0.00         2\n",
            "          85       0.00      0.00      0.00         2\n",
            "          86       0.00      0.00      0.00         1\n",
            "          88       0.00      0.00      0.00         6\n",
            "          89       0.00      0.00      0.00         1\n",
            "          90       0.00      0.00      0.00         7\n",
            "          91       0.00      0.00      0.00         7\n",
            "          92       0.00      0.00      0.00         2\n",
            "          93       0.00      0.00      0.00         3\n",
            "          94       0.00      0.00      0.00         4\n",
            "          95       0.00      0.00      0.00         1\n",
            "          96       0.00      0.00      0.00         5\n",
            "          97       0.00      0.00      0.00         3\n",
            "          98       0.00      0.00      0.00         5\n",
            "          99       0.00      0.00      0.00         5\n",
            "         100       0.00      0.00      0.00         1\n",
            "         101       0.00      0.00      0.00         2\n",
            "         102       0.00      0.00      0.00         1\n",
            "         103       0.00      0.00      0.00         7\n",
            "         104       0.00      0.00      0.00         1\n",
            "         105       0.00      0.00      0.00         2\n",
            "         106       0.00      0.00      0.00         7\n",
            "         107       0.00      0.00      0.00         3\n",
            "         108       0.00      0.00      0.00         1\n",
            "         109       0.00      0.00      0.00         1\n",
            "         110       0.00      0.00      0.00         1\n",
            "         111       0.00      0.00      0.00         1\n",
            "         112       0.00      0.00      0.00         5\n",
            "         113       0.00      0.00      0.00         1\n",
            "         116       0.00      0.00      0.00         1\n",
            "         117       0.00      0.00      0.00         1\n",
            "         119       0.00      0.00      0.00         1\n",
            "         120       0.00      0.00      0.00         1\n",
            "         122       0.00      0.00      0.00         2\n",
            "         124       0.00      0.00      0.00         3\n",
            "         125       0.00      0.00      0.00         4\n",
            "         129       0.00      0.00      0.00         5\n",
            "         130       0.00      0.00      0.00         2\n",
            "         132       0.00      0.00      0.00         1\n",
            "         133       0.00      0.00      0.00         2\n",
            "         134       0.00      0.00      0.00         4\n",
            "         135       0.00      0.00      0.00         1\n",
            "         136       0.00      0.00      0.00         1\n",
            "         137       0.00      0.00      0.00         2\n",
            "         138       0.00      0.00      0.00         2\n",
            "         139       0.00      0.00      0.00         1\n",
            "         141       0.00      0.00      0.00         1\n",
            "         142       0.00      0.00      0.00         2\n",
            "         143       0.00      0.00      0.00         3\n",
            "         144       0.00      0.00      0.00         1\n",
            "         148       0.00      0.00      0.00         2\n",
            "         151       0.00      0.00      0.00         2\n",
            "         152       0.00      0.00      0.00         3\n",
            "         153       0.00      0.00      0.00         1\n",
            "         154       0.00      0.00      0.00         1\n",
            "         155       0.00      0.00      0.00         2\n",
            "         156       0.00      0.00      0.00         1\n",
            "         157       0.00      0.00      0.00         2\n",
            "         160       0.00      0.00      0.00         1\n",
            "         161       0.00      0.00      0.00         1\n",
            "         162       0.00      0.00      0.00         2\n",
            "         164       0.00      0.00      0.00         1\n",
            "         165       0.00      0.00      0.00         1\n",
            "         167       0.00      0.00      0.00         1\n",
            "         169       0.00      0.00      0.00         2\n",
            "         171       0.00      0.00      0.00         3\n",
            "         172       0.00      0.00      0.00         4\n",
            "         173       0.00      0.00      0.00         1\n",
            "         176       0.00      0.00      0.00         7\n",
            "         177       0.00      0.00      0.00         1\n",
            "         182       0.00      0.00      0.00         4\n",
            "         185       0.00      0.00      0.00         1\n",
            "         189       0.00      0.00      0.00         1\n",
            "         190       0.00      0.00      0.00         1\n",
            "         191       0.00      0.00      0.00         6\n",
            "         192       0.00      0.00      0.00         2\n",
            "         193       0.00      0.00      0.00         2\n",
            "         196       0.00      0.00      0.00         2\n",
            "         197       0.00      0.00      0.00         1\n",
            "         198       0.00      0.00      0.00         1\n",
            "         200       0.00      0.00      0.00         4\n",
            "         203       0.00      0.00      0.00         1\n",
            "         205       0.00      0.00      0.00         6\n",
            "         206       0.00      0.00      0.00         3\n",
            "         210       0.00      0.00      0.00         4\n",
            "         211       0.00      0.00      0.00         3\n",
            "         212       0.00      0.00      0.00         1\n",
            "         214       0.00      0.00      0.00         1\n",
            "         215       0.00      0.00      0.00         1\n",
            "         219       0.00      0.00      0.00         1\n",
            "         220       0.00      0.00      0.00         2\n",
            "         221       0.00      0.00      0.00         1\n",
            "         225       0.00      0.00      0.00         2\n",
            "         226       0.00      0.00      0.00         4\n",
            "         227       0.00      0.00      0.00         1\n",
            "         235       0.00      0.00      0.00         3\n",
            "         240       0.00      0.00      0.00        13\n",
            "         250       0.00      0.00      0.00         1\n",
            "         255       0.67      0.92      0.77     22022\n",
            "\n",
            "    accuracy                           0.68     37367\n",
            "   macro avg       0.01      0.01      0.01     37367\n",
            "weighted avg       0.69      0.68      0.65     37367\n",
            "\n",
            "accuracy:  0.6805202451360827\n",
            "precision:  0.008241041234871136\n",
            "recall :  0.007457765779402745\n",
            "f1 score:  0.007338200478076486\n"
          ]
        },
        {
          "output_type": "stream",
          "name": "stderr",
          "text": [
            "/usr/local/lib/python3.8/dist-packages/sklearn/metrics/_classification.py:1318: UndefinedMetricWarning: Precision and F-score are ill-defined and being set to 0.0 in labels with no predicted samples. Use `zero_division` parameter to control this behavior.\n",
            "  _warn_prf(average, modifier, msg_start, len(result))\n",
            "/usr/local/lib/python3.8/dist-packages/sklearn/metrics/_classification.py:1318: UndefinedMetricWarning: Precision and F-score are ill-defined and being set to 0.0 in labels with no predicted samples. Use `zero_division` parameter to control this behavior.\n",
            "  _warn_prf(average, modifier, msg_start, len(result))\n",
            "/usr/local/lib/python3.8/dist-packages/sklearn/metrics/_classification.py:1318: UndefinedMetricWarning: Precision and F-score are ill-defined and being set to 0.0 in labels with no predicted samples. Use `zero_division` parameter to control this behavior.\n",
            "  _warn_prf(average, modifier, msg_start, len(result))\n",
            "/usr/local/lib/python3.8/dist-packages/sklearn/metrics/_classification.py:1318: UndefinedMetricWarning: Precision is ill-defined and being set to 0.0 in labels with no predicted samples. Use `zero_division` parameter to control this behavior.\n",
            "  _warn_prf(average, modifier, msg_start, len(result))\n"
          ]
        }
      ]
    },
    {
      "cell_type": "markdown",
      "metadata": {
        "id": "w6rIYL1DpcRt"
      },
      "source": [
        "Avec un score ègal à 99%, on peut dire que notre modéle est performant. \n",
        "Ainsi, avant de procéder à la segmentation d'une nouvelle image nous allons entrainer le modéle sur la totalité de l'image"
      ]
    },
    {
      "cell_type": "code",
      "metadata": {
        "id": "iAYZunFDps1U",
        "colab": {
          "base_uri": "https://localhost:8080/"
        },
        "outputId": "7636eab0-854c-42f9-c493-9954ea51fd32"
      },
      "source": [
        "clf = svm.SVC(C=1,kernel='rbf')\n",
        "clf.fit(X, y)"
      ],
      "execution_count": null,
      "outputs": [
        {
          "output_type": "execute_result",
          "data": {
            "text/plain": [
              "SVC(C=1)"
            ]
          },
          "metadata": {},
          "execution_count": 41
        }
      ]
    },
    {
      "cell_type": "markdown",
      "metadata": {
        "id": "4G8o4fhEqNLK"
      },
      "source": [
        "### <h3>3.4.4- Segmenter une nouvelle image</h3>"
      ]
    },
    {
      "cell_type": "code",
      "metadata": {
        "id": "ik1tzSMmqR5k",
        "colab": {
          "base_uri": "https://localhost:8080/"
        },
        "outputId": "1727d055-46e9-45d3-dad4-53876d44390d"
      },
      "source": [
        "image_path=\"/content/drive/MyDrive/dataset/Image_clustering/2.bmp\"\n",
        "image=cv.imread(image_path)\n",
        "\n",
        "# descirpteur: Intensités dans l'espace RGB\n",
        "featuresRGB = color_RGB(imge)\n",
        "\n",
        "# descirpteur: Intensités dans l'espace HSV\n",
        "featuresHSV = color_HSV(imge)\n",
        "\n",
        "# Créer le vecteur descripteur Xnew\n",
        "Xnew = np.concatenate((featuresRGB, featuresHSV), axis=1)\n",
        "print(Xnew.shape)\n"
      ],
      "execution_count": null,
      "outputs": [
        {
          "output_type": "stream",
          "name": "stdout",
          "text": [
            "(113232, 6)\n"
          ]
        }
      ]
    },
    {
      "cell_type": "markdown",
      "metadata": {
        "id": "HZ8I4lQdrKRS"
      },
      "source": [
        "Segmenter l'image revient à prédire les étiquettes de chaque pixel de l'image."
      ]
    },
    {
      "cell_type": "code",
      "metadata": {
        "id": "G5MOl2JLrV3Z"
      },
      "source": [
        "y_new=clf.predict(Xnew)"
      ],
      "execution_count": null,
      "outputs": []
    },
    {
      "cell_type": "markdown",
      "metadata": {
        "id": "AaKwIhR5rz0k"
      },
      "source": [
        "Construire l'image segmentée (mask) utilisant le vecteur prédit y"
      ]
    },
    {
      "cell_type": "code",
      "metadata": {
        "id": "goXy79OGr88s",
        "colab": {
          "base_uri": "https://localhost:8080/",
          "height": 287
        },
        "outputId": "85e4edc7-da43-4058-f570-5738979cf896"
      },
      "source": [
        "# Reconstruire le masque de segmentation\n",
        "mask_new= y_new.reshape(image.shape[1],image.shape[0])\n",
        "plt.imshow(mask_new)"
      ],
      "execution_count": null,
      "outputs": [
        {
          "output_type": "execute_result",
          "data": {
            "text/plain": [
              "<matplotlib.image.AxesImage at 0x7efc881a5af0>"
            ]
          },
          "metadata": {},
          "execution_count": 44
        },
        {
          "output_type": "display_data",
          "data": {
            "text/plain": [
              "<Figure size 432x288 with 1 Axes>"
            ],
            "image/png": "[encoded data removed]"
          },
          "metadata": {
            "needs_background": "light"
          }
        }
      ]
    },
    {
      "cell_type": "markdown",
      "metadata": {
        "id": "IDTnVhIS4kZs"
      },
      "source": [
        "\n",
        "### <h3>3.4.5- Evaluer le modéle</h3>\n",
        "Pour évaluer le modéle, il faut utiliser le masque de segmentation fourni"
      ]
    },
    {
      "cell_type": "code",
      "metadata": {
        "id": "eYaC0aTK4m4U",
        "colab": {
          "base_uri": "https://localhost:8080/"
        },
        "outputId": "7d1c6d65-d549-4bf2-eab4-2d26f1934e95"
      },
      "source": [
        "import sklearn.metrics as metrics\n",
        "\n",
        "mask_path_2GT=\"/content/drive/MyDrive/dataset/Image_clustering/2_GT.bmp\"\n",
        "imageMask_2GT=cv.imread(mask_path_2GT, cv.IMREAD_GRAYSCALE).ravel()//255\n",
        "imageMask_2GT = imageMask_2GT.reshape(-1,1)\n",
        "y_2GT =np.concatenate(imageMask_2GT)\n",
        "\n",
        "confusion_matrix(y_2GT, y)\n",
        "rapport=classification_report(y_2GT, y)\n",
        "\n",
        "# Afficher le rapport sous forme de tableau\n",
        "print('Rapport de Classification : \\n',rapport)\n",
        "print(\"accuracy: \", metrics.accuracy_score(y_2GT, y))\n",
        "print(\"precision: \", metrics.precision_score(y_2GT, y, average='macro'))\n",
        "print(\"recall : \", metrics.recall_score(y_2GT, y, average='macro'))\n",
        "print(\"f1 score: \", metrics.f1_score(y_2GT, y, average='macro'))"
      ],
      "execution_count": null,
      "outputs": [
        {
          "output_type": "stream",
          "name": "stdout",
          "text": [
            "Rapport de Classification : \n",
            "               precision    recall  f1-score   support\n",
            "\n",
            "           0       0.94      0.81      0.87     52426\n",
            "           1       0.67      0.00      0.00     60806\n",
            "           2       0.00      0.00      0.00         0\n",
            "           3       0.00      0.00      0.00         0\n",
            "           4       0.00      0.00      0.00         0\n",
            "           5       0.00      0.00      0.00         0\n",
            "           6       0.00      0.00      0.00         0\n",
            "           7       0.00      0.00      0.00         0\n",
            "           8       0.00      0.00      0.00         0\n",
            "           9       0.00      0.00      0.00         0\n",
            "          10       0.00      0.00      0.00         0\n",
            "          11       0.00      0.00      0.00         0\n",
            "          12       0.00      0.00      0.00         0\n",
            "          13       0.00      0.00      0.00         0\n",
            "          14       0.00      0.00      0.00         0\n",
            "          15       0.00      0.00      0.00         0\n",
            "          16       0.00      0.00      0.00         0\n",
            "          17       0.00      0.00      0.00         0\n",
            "          18       0.00      0.00      0.00         0\n",
            "          19       0.00      0.00      0.00         0\n",
            "          20       0.00      0.00      0.00         0\n",
            "          21       0.00      0.00      0.00         0\n",
            "          22       0.00      0.00      0.00         0\n",
            "          23       0.00      0.00      0.00         0\n",
            "          24       0.00      0.00      0.00         0\n",
            "          25       0.00      0.00      0.00         0\n",
            "          26       0.00      0.00      0.00         0\n",
            "          27       0.00      0.00      0.00         0\n",
            "          28       0.00      0.00      0.00         0\n",
            "          29       0.00      0.00      0.00         0\n",
            "          30       0.00      0.00      0.00         0\n",
            "          31       0.00      0.00      0.00         0\n",
            "          32       0.00      0.00      0.00         0\n",
            "          33       0.00      0.00      0.00         0\n",
            "          34       0.00      0.00      0.00         0\n",
            "          35       0.00      0.00      0.00         0\n",
            "          36       0.00      0.00      0.00         0\n",
            "          37       0.00      0.00      0.00         0\n",
            "          38       0.00      0.00      0.00         0\n",
            "          39       0.00      0.00      0.00         0\n",
            "          40       0.00      0.00      0.00         0\n",
            "          41       0.00      0.00      0.00         0\n",
            "          42       0.00      0.00      0.00         0\n",
            "          43       0.00      0.00      0.00         0\n",
            "          44       0.00      0.00      0.00         0\n",
            "          45       0.00      0.00      0.00         0\n",
            "          46       0.00      0.00      0.00         0\n",
            "          47       0.00      0.00      0.00         0\n",
            "          48       0.00      0.00      0.00         0\n",
            "          49       0.00      0.00      0.00         0\n",
            "          50       0.00      0.00      0.00         0\n",
            "          51       0.00      0.00      0.00         0\n",
            "          52       0.00      0.00      0.00         0\n",
            "          53       0.00      0.00      0.00         0\n",
            "          54       0.00      0.00      0.00         0\n",
            "          55       0.00      0.00      0.00         0\n",
            "          56       0.00      0.00      0.00         0\n",
            "          57       0.00      0.00      0.00         0\n",
            "          58       0.00      0.00      0.00         0\n",
            "          59       0.00      0.00      0.00         0\n",
            "          60       0.00      0.00      0.00         0\n",
            "          61       0.00      0.00      0.00         0\n",
            "          62       0.00      0.00      0.00         0\n",
            "          63       0.00      0.00      0.00         0\n",
            "          64       0.00      0.00      0.00         0\n",
            "          65       0.00      0.00      0.00         0\n",
            "          66       0.00      0.00      0.00         0\n",
            "          67       0.00      0.00      0.00         0\n",
            "          68       0.00      0.00      0.00         0\n",
            "          69       0.00      0.00      0.00         0\n",
            "          70       0.00      0.00      0.00         0\n",
            "          71       0.00      0.00      0.00         0\n",
            "          72       0.00      0.00      0.00         0\n",
            "          73       0.00      0.00      0.00         0\n",
            "          74       0.00      0.00      0.00         0\n",
            "          75       0.00      0.00      0.00         0\n",
            "          76       0.00      0.00      0.00         0\n",
            "          77       0.00      0.00      0.00         0\n",
            "          78       0.00      0.00      0.00         0\n",
            "          79       0.00      0.00      0.00         0\n",
            "          80       0.00      0.00      0.00         0\n",
            "          81       0.00      0.00      0.00         0\n",
            "          82       0.00      0.00      0.00         0\n",
            "          83       0.00      0.00      0.00         0\n",
            "          84       0.00      0.00      0.00         0\n",
            "          85       0.00      0.00      0.00         0\n",
            "          86       0.00      0.00      0.00         0\n",
            "          87       0.00      0.00      0.00         0\n",
            "          88       0.00      0.00      0.00         0\n",
            "          89       0.00      0.00      0.00         0\n",
            "          90       0.00      0.00      0.00         0\n",
            "          91       0.00      0.00      0.00         0\n",
            "          92       0.00      0.00      0.00         0\n",
            "          93       0.00      0.00      0.00         0\n",
            "          94       0.00      0.00      0.00         0\n",
            "          95       0.00      0.00      0.00         0\n",
            "          96       0.00      0.00      0.00         0\n",
            "          97       0.00      0.00      0.00         0\n",
            "          98       0.00      0.00      0.00         0\n",
            "          99       0.00      0.00      0.00         0\n",
            "         100       0.00      0.00      0.00         0\n",
            "         101       0.00      0.00      0.00         0\n",
            "         102       0.00      0.00      0.00         0\n",
            "         103       0.00      0.00      0.00         0\n",
            "         104       0.00      0.00      0.00         0\n",
            "         105       0.00      0.00      0.00         0\n",
            "         106       0.00      0.00      0.00         0\n",
            "         107       0.00      0.00      0.00         0\n",
            "         108       0.00      0.00      0.00         0\n",
            "         109       0.00      0.00      0.00         0\n",
            "         110       0.00      0.00      0.00         0\n",
            "         111       0.00      0.00      0.00         0\n",
            "         112       0.00      0.00      0.00         0\n",
            "         113       0.00      0.00      0.00         0\n",
            "         114       0.00      0.00      0.00         0\n",
            "         115       0.00      0.00      0.00         0\n",
            "         116       0.00      0.00      0.00         0\n",
            "         117       0.00      0.00      0.00         0\n",
            "         118       0.00      0.00      0.00         0\n",
            "         119       0.00      0.00      0.00         0\n",
            "         120       0.00      0.00      0.00         0\n",
            "         121       0.00      0.00      0.00         0\n",
            "         122       0.00      0.00      0.00         0\n",
            "         123       0.00      0.00      0.00         0\n",
            "         124       0.00      0.00      0.00         0\n",
            "         125       0.00      0.00      0.00         0\n",
            "         127       0.00      0.00      0.00         0\n",
            "         128       0.00      0.00      0.00         0\n",
            "         129       0.00      0.00      0.00         0\n",
            "         130       0.00      0.00      0.00         0\n",
            "         131       0.00      0.00      0.00         0\n",
            "         132       0.00      0.00      0.00         0\n",
            "         133       0.00      0.00      0.00         0\n",
            "         134       0.00      0.00      0.00         0\n",
            "         135       0.00      0.00      0.00         0\n",
            "         136       0.00      0.00      0.00         0\n",
            "         137       0.00      0.00      0.00         0\n",
            "         138       0.00      0.00      0.00         0\n",
            "         139       0.00      0.00      0.00         0\n",
            "         140       0.00      0.00      0.00         0\n",
            "         141       0.00      0.00      0.00         0\n",
            "         142       0.00      0.00      0.00         0\n",
            "         143       0.00      0.00      0.00         0\n",
            "         144       0.00      0.00      0.00         0\n",
            "         145       0.00      0.00      0.00         0\n",
            "         147       0.00      0.00      0.00         0\n",
            "         148       0.00      0.00      0.00         0\n",
            "         149       0.00      0.00      0.00         0\n",
            "         151       0.00      0.00      0.00         0\n",
            "         152       0.00      0.00      0.00         0\n",
            "         153       0.00      0.00      0.00         0\n",
            "         154       0.00      0.00      0.00         0\n",
            "         155       0.00      0.00      0.00         0\n",
            "         156       0.00      0.00      0.00         0\n",
            "         157       0.00      0.00      0.00         0\n",
            "         158       0.00      0.00      0.00         0\n",
            "         159       0.00      0.00      0.00         0\n",
            "         160       0.00      0.00      0.00         0\n",
            "         161       0.00      0.00      0.00         0\n",
            "         162       0.00      0.00      0.00         0\n",
            "         163       0.00      0.00      0.00         0\n",
            "         164       0.00      0.00      0.00         0\n",
            "         165       0.00      0.00      0.00         0\n",
            "         166       0.00      0.00      0.00         0\n",
            "         167       0.00      0.00      0.00         0\n",
            "         168       0.00      0.00      0.00         0\n",
            "         169       0.00      0.00      0.00         0\n",
            "         171       0.00      0.00      0.00         0\n",
            "         172       0.00      0.00      0.00         0\n",
            "         173       0.00      0.00      0.00         0\n",
            "         174       0.00      0.00      0.00         0\n",
            "         175       0.00      0.00      0.00         0\n",
            "         176       0.00      0.00      0.00         0\n",
            "         177       0.00      0.00      0.00         0\n",
            "         181       0.00      0.00      0.00         0\n",
            "         182       0.00      0.00      0.00         0\n",
            "         184       0.00      0.00      0.00         0\n",
            "         185       0.00      0.00      0.00         0\n",
            "         189       0.00      0.00      0.00         0\n",
            "         190       0.00      0.00      0.00         0\n",
            "         191       0.00      0.00      0.00         0\n",
            "         192       0.00      0.00      0.00         0\n",
            "         193       0.00      0.00      0.00         0\n",
            "         194       0.00      0.00      0.00         0\n",
            "         195       0.00      0.00      0.00         0\n",
            "         196       0.00      0.00      0.00         0\n",
            "         197       0.00      0.00      0.00         0\n",
            "         198       0.00      0.00      0.00         0\n",
            "         200       0.00      0.00      0.00         0\n",
            "         203       0.00      0.00      0.00         0\n",
            "         204       0.00      0.00      0.00         0\n",
            "         205       0.00      0.00      0.00         0\n",
            "         206       0.00      0.00      0.00         0\n",
            "         210       0.00      0.00      0.00         0\n",
            "         211       0.00      0.00      0.00         0\n",
            "         212       0.00      0.00      0.00         0\n",
            "         213       0.00      0.00      0.00         0\n",
            "         214       0.00      0.00      0.00         0\n",
            "         215       0.00      0.00      0.00         0\n",
            "         219       0.00      0.00      0.00         0\n",
            "         220       0.00      0.00      0.00         0\n",
            "         221       0.00      0.00      0.00         0\n",
            "         222       0.00      0.00      0.00         0\n",
            "         225       0.00      0.00      0.00         0\n",
            "         226       0.00      0.00      0.00         0\n",
            "         227       0.00      0.00      0.00         0\n",
            "         234       0.00      0.00      0.00         0\n",
            "         235       0.00      0.00      0.00         0\n",
            "         240       0.00      0.00      0.00         0\n",
            "         241       0.00      0.00      0.00         0\n",
            "         246       0.00      0.00      0.00         0\n",
            "         250       0.00      0.00      0.00         0\n",
            "         255       0.00      0.00      0.00         0\n",
            "\n",
            "    accuracy                           0.38    113232\n",
            "   macro avg       0.01      0.00      0.00    113232\n",
            "weighted avg       0.79      0.38      0.40    113232\n",
            "\n",
            "accuracy:  0.3751942913663982\n",
            "precision:  0.007541924728575213\n",
            "recall :  0.003804488326788509\n",
            "f1 score:  0.004086019498706485\n"
          ]
        },
        {
          "output_type": "stream",
          "name": "stderr",
          "text": [
            "/usr/local/lib/python3.8/dist-packages/sklearn/metrics/_classification.py:1318: UndefinedMetricWarning: Recall and F-score are ill-defined and being set to 0.0 in labels with no true samples. Use `zero_division` parameter to control this behavior.\n",
            "  _warn_prf(average, modifier, msg_start, len(result))\n",
            "/usr/local/lib/python3.8/dist-packages/sklearn/metrics/_classification.py:1318: UndefinedMetricWarning: Recall and F-score are ill-defined and being set to 0.0 in labels with no true samples. Use `zero_division` parameter to control this behavior.\n",
            "  _warn_prf(average, modifier, msg_start, len(result))\n",
            "/usr/local/lib/python3.8/dist-packages/sklearn/metrics/_classification.py:1318: UndefinedMetricWarning: Recall and F-score are ill-defined and being set to 0.0 in labels with no true samples. Use `zero_division` parameter to control this behavior.\n",
            "  _warn_prf(average, modifier, msg_start, len(result))\n",
            "/usr/local/lib/python3.8/dist-packages/sklearn/metrics/_classification.py:1318: UndefinedMetricWarning: Recall is ill-defined and being set to 0.0 in labels with no true samples. Use `zero_division` parameter to control this behavior.\n",
            "  _warn_prf(average, modifier, msg_start, len(result))\n"
          ]
        }
      ]
    },
    {
      "cell_type": "markdown",
      "metadata": {
        "id": "GAtwcDrH5TY2"
      },
      "source": [
        "### <h3>3.4.6- Comparaison avec Kmeans</h3>"
      ]
    },
    {
      "cell_type": "code",
      "metadata": {
        "id": "DG6Px09G5U3K"
      },
      "source": [
        "from sklearn.metrics import accuracy_score\n",
        "\n",
        "# Code Python pour l'étude comparative\n"
      ],
      "execution_count": null,
      "outputs": []
    },
    {
      "cell_type": "markdown",
      "metadata": {
        "id": "xR3rEEDXvWrC"
      },
      "source": [
        "On remarque bien que le résultat de segmentation avec une classification supervisée à base de l'algorithme SVM est nettement meilleur que celui obtenu par application de Kmeans. "
      ]
    },
    {
      "cell_type": "markdown",
      "source": [
        "Ici les fichiers csv des differentes methods de clustring: \n",
        "https://drive.google.com/drive/folders/1iR6I9VTTSTF1tYMGd8hyE390HZZsoROw?usp=sharing"
      ],
      "metadata": {
        "id": "ylDZ7NFbwlyQ"
      }
    }
  ]
}