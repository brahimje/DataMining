{
  "nbformat": 4,
  "nbformat_minor": 0,
  "metadata": {
    "colab": {
      "provenance": [],
      "collapsed_sections": [],
      "authorship_tag": "ABX9TyNs0UO11NVfUcEsoKGNVr+O",
      "include_colab_link": true
    },
    "kernelspec": {
      "name": "python3",
      "display_name": "Python 3"
    },
    "language_info": {
      "name": "python"
    }
  },
  "cells": [
    {
      "cell_type": "markdown",
      "metadata": {
        "id": "view-in-github",
        "colab_type": "text"
      },
      "source": [
        "<a href=\"https://colab.research.google.com/github/brahimje/DataMining/blob/main/TextMining/TF-IDF.ipynb\" target=\"_parent\"><img src=\"https://colab.research.google.com/assets/colab-badge.svg\" alt=\"Open In Colab\"/></a>"
      ]
    },
    {
      "cell_type": "code",
      "execution_count": 17,
      "metadata": {
        "id": "wjifJx0NzZsh"
      },
      "outputs": [],
      "source": [
        "from pprint import pprint #pretty printer\n",
        "from gensim import corpora, models, similarities"
      ]
    },
    {
      "cell_type": "code",
      "source": [
        "#corpus\n",
        "documents = [\"new york times\",\n",
        "                    \"new york post\",\n",
        "                    \"los angeles times\"]\n",
        "\n",
        "# Preprocessing (here, we only do tokenization)\n",
        "tokenized_documents = [[token for token in document.lower().split()]\n",
        "                       for document in documents]\n",
        "\n",
        "pprint(tokenized_documents)"
      ],
      "metadata": {
        "colab": {
          "base_uri": "https://localhost:8080/"
        },
        "id": "fR-SwoBxzlMY",
        "outputId": "d3baebb9-fe73-4134-b4ec-4f72b853f754"
      },
      "execution_count": 18,
      "outputs": [
        {
          "output_type": "stream",
          "name": "stdout",
          "text": [
            "[['new', 'york', 'times'], ['new', 'york', 'post'], ['los', 'angeles', 'times']]\n"
          ]
        }
      ]
    },
    {
      "cell_type": "code",
      "source": [
        "# Create\n",
        "dictionary =  corpora.Dictionary(tokenized_documents)\n",
        "print(dictionary)\n",
        "print('\\n')\n",
        "print(dictionary.num_docs)\n",
        "\n",
        "# Save dictionary as text fr corpus inspection\n",
        "dictionary.save_as_text('/content/test/text.txt')"
      ],
      "metadata": {
        "colab": {
          "base_uri": "https://localhost:8080/"
        },
        "id": "W_oS4yRL0xA6",
        "outputId": "f708d19a-0c12-4374-da52-aa41004bb1c8"
      },
      "execution_count": 19,
      "outputs": [
        {
          "output_type": "stream",
          "name": "stdout",
          "text": [
            "Dictionary(6 unique tokens: ['new', 'times', 'york', 'post', 'angeles']...)\n",
            "\n",
            "\n",
            "3\n"
          ]
        }
      ]
    },
    {
      "cell_type": "code",
      "source": [
        "corpus_doc2bow_vectors = [dictionary.doc2bow(tok_doc) for tok_doc in\n",
        "                          tokenized_documents]\n",
        "\n",
        "# \n",
        "print('------- doc2bow_vector of the three documents : [(id_words, tf), (id_word...')\n",
        "for c in corpus_doc2bow_vectors:\n",
        "  print(c)"
      ],
      "metadata": {
        "colab": {
          "base_uri": "https://localhost:8080/"
        },
        "id": "6cbLyNP42WnM",
        "outputId": "3882f58b-4be8-4325-fc6a-feecb79fb892"
      },
      "execution_count": 20,
      "outputs": [
        {
          "output_type": "stream",
          "name": "stdout",
          "text": [
            "------- doc2bow_vector of the three documents : [(id_words, tf), (id_word...\n",
            "[(0, 1), (1, 1), (2, 1)]\n",
            "[(0, 1), (2, 1), (3, 1)]\n",
            "[(1, 1), (4, 1), (5, 1)]\n"
          ]
        }
      ]
    },
    {
      "cell_type": "code",
      "source": [
        "%time tfidf_model = models.TfidfModel(corpus_doc2bow_vectors, id2word=dictionary, normalize=False) #fit model\n",
        "\n",
        "# Apply model\n",
        "corpus_tfidf_vectors = tfidf_model[corpus_doc2bow_vectors] # apply model\n",
        "\n",
        "print('----- tfidf_vectors of the three documents: (id_word, tf-idf), id_word, tf-idf, ....')\n",
        "for doc_vector in corpus_tfidf_vectors:\n",
        "  print(doc_vector)"
      ],
      "metadata": {
        "colab": {
          "base_uri": "https://localhost:8080/"
        },
        "id": "dytgAV303K7_",
        "outputId": "89156747-cb5f-47d5-b79f-8441e7b3f566"
      },
      "execution_count": 22,
      "outputs": [
        {
          "output_type": "stream",
          "name": "stdout",
          "text": [
            "CPU times: user 99 µs, sys: 0 ns, total: 99 µs\n",
            "Wall time: 104 µs\n",
            "----- tfidf_vectors of the three documents: (id_word, tf-idf), id_word, tf-idf, ....\n",
            "[(0, 0.5849625007211562), (1, 0.5849625007211562), (2, 0.5849625007211562)]\n",
            "[(0, 0.5849625007211562), (2, 0.5849625007211562), (3, 1.5849625007211563)]\n",
            "[(1, 0.5849625007211562), (4, 1.5849625007211563), (5, 1.5849625007211563)]\n"
          ]
        }
      ]
    },
    {
      "cell_type": "code",
      "source": [
        "# Create a bow bector for a new document (for example: a query)\n",
        "query = \"new new times\"\n",
        "query_bow_vector = dictionary.doc2bow(query.lower().split())\n",
        "print(query_bow_vector)"
      ],
      "metadata": {
        "colab": {
          "base_uri": "https://localhost:8080/"
        },
        "id": "8nDdgZ_s5BE7",
        "outputId": "e68be637-bccd-43bd-ff95-cde8ffec6794"
      },
      "execution_count": 29,
      "outputs": [
        {
          "output_type": "stream",
          "name": "stdout",
          "text": [
            "[(0, 2), (1, 1)]\n"
          ]
        }
      ]
    },
    {
      "cell_type": "code",
      "source": [
        "# Calculate TF-IDF vecor of  the query\n",
        "query_tfidf_vector = tfidf_model[query_bow_vector]\n",
        "print(query_tfidf_vector)"
      ],
      "metadata": {
        "colab": {
          "base_uri": "https://localhost:8080/"
        },
        "id": "gKJPlRfP5fCy",
        "outputId": "37f586ed-e408-46db-db9c-f835c4638461"
      },
      "execution_count": 30,
      "outputs": [
        {
          "output_type": "stream",
          "name": "stdout",
          "text": [
            "[(0, 1.1699250014423124), (1, 0.5849625007211562)]\n"
          ]
        }
      ]
    },
    {
      "cell_type": "code",
      "source": [
        "index_matrix = similarities.SparseMatrixSimilarity(corpus_tfidf_vectors,num_features=6)\n",
        "\n",
        "sims = index_matrix[query_tfidf_vector]\n",
        "print(list(sims))"
      ],
      "metadata": {
        "colab": {
          "base_uri": "https://localhost:8080/"
        },
        "id": "0ZeuifQo6vlH",
        "outputId": "e9fa2d17-81ba-4d59-8184-9aea32841005"
      },
      "execution_count": 31,
      "outputs": [
        {
          "output_type": "stream",
          "name": "stdout",
          "text": [
            "[0.7745967, 0.2926428, 0.112928025]\n"
          ]
        }
      ]
    }
  ]
}